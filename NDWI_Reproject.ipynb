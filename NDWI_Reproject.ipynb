{
 "metadata": {
  "name": "",
  "signature": "sha256:ff64f101506357df384df167ddea75fecd6721d9cffbeed2d570f0c1b2663fd1"
 },
 "nbformat": 3,
 "nbformat_minor": 0,
 "worksheets": [
  {
   "cells": [
    {
     "cell_type": "heading",
     "level": 1,
     "metadata": {},
     "source": [
      "Week 3 (Python): Raster handling with Python"
     ]
    },
    {
     "cell_type": "code",
     "collapsed": false,
     "input": [
      "# import modules\n",
      "from osgeo import gdal\n",
      "from osgeo.gdalconst import GA_ReadOnly, GDT_Float32\n",
      "import numpy as np"
     ],
     "language": "python",
     "metadata": {},
     "outputs": [],
     "prompt_number": 1
    },
    {
     "cell_type": "code",
     "collapsed": false,
     "input": [
      "# open file and print info about the file\n",
      "print  \"Band 4\"\n",
      "band4 = '/home/user/git/geoScripting/PythonRaster/LC81980242014260LGN00_sr_band4.tif'\n",
      "dataSource4 = gdal.Open(band4, GA_ReadOnly)\n",
      "\n",
      "print \"\\nInformation about \" + band4 \n",
      "print \"Driver: \", dataSource4.GetDriver().ShortName,\"/\", \\\n",
      "      dataSource4.GetDriver().LongName\n",
      "print \"Size is \",dataSource4.RasterXSize,\"x\",dataSource4.RasterYSize, \\\n",
      "      'x',dataSource4.RasterCount\n",
      "\n",
      "print '\\nProjection is: ', dataSource4.GetProjection()\n",
      "\n",
      "print \"\\nInformation about the location of the image and the pixel size:\"\n",
      "geotransform = dataSource4.GetGeoTransform()\n",
      "if not geotransform is None:\n",
      "    print 'Origin = (',geotransform[0], ',',geotransform[3],')'\n",
      "    print 'Pixel Size = (',geotransform[1], ',',geotransform[5],')'"
     ],
     "language": "python",
     "metadata": {},
     "outputs": [
      {
       "output_type": "stream",
       "stream": "stdout",
       "text": [
        "Band 4\n",
        "\n",
        "Information about /home/user/git/geoScripting/PythonRaster/LC81980242014260LGN00_sr_band4.tif\n",
        "Driver:  GTiff / GeoTIFF\n",
        "Size is  7791 x 7911 x 1\n",
        "\n",
        "Projection is:  PROJCS[\"WGS 84 / UTM zone 31N\",GEOGCS[\"WGS 84\",DATUM[\"WGS_1984\",SPHEROID[\"WGS 84\",6378137,298.257223563,AUTHORITY[\"EPSG\",\"7030\"]],AUTHORITY[\"EPSG\",\"6326\"]],PRIMEM[\"Greenwich\",0],UNIT[\"degree\",0.0174532925199433],AUTHORITY[\"EPSG\",\"4326\"]],PROJECTION[\"Transverse_Mercator\"],PARAMETER[\"latitude_of_origin\",0],PARAMETER[\"central_meridian\",3],PARAMETER[\"scale_factor\",0.9996],PARAMETER[\"false_easting\",500000],PARAMETER[\"false_northing\",0],UNIT[\"metre\",1,AUTHORITY[\"EPSG\",\"9001\"]],AUTHORITY[\"EPSG\",\"32631\"]]\n",
        "\n",
        "Information about the location of the image and the pixel size:\n",
        "Origin = ( 529185.0 , 5847015.0 )\n",
        "Pixel Size = ( 30.0 , -30.0 )\n"
       ]
      }
     ],
     "prompt_number": 2
    },
    {
     "cell_type": "code",
     "collapsed": false,
     "input": [
      "print \"Band 5\"\n",
      "band5 = '/home/user/git/geoScripting/PythonRaster/LC81980242014260LGN00_sr_band5.tif'\n",
      "dataSource5 = gdal.Open(band5, GA_ReadOnly)\n",
      "\n",
      "print \"\\nInformation about \" + band5 \n",
      "print \"Driver: \", dataSource5.GetDriver().ShortName,\"/\", \\\n",
      "      dataSource5.GetDriver().LongName\n",
      "print \"Size is \",dataSource5.RasterXSize,\"x\",dataSource5.RasterYSize, \\\n",
      "      'x',dataSource5.RasterCount\n",
      "\n",
      "print '\\nProjection is: ', dataSource5.GetProjection()\n",
      "\n",
      "print \"\\nInformation about the location of the image and the pixel size:\"\n",
      "geotransform = dataSource5.GetGeoTransform()\n",
      "if not geotransform is None:\n",
      "    print 'Origin = (',geotransform[0], ',',geotransform[3],')'\n",
      "    print 'Pixel Size = (',geotransform[1], ',',geotransform[5],')'"
     ],
     "language": "python",
     "metadata": {},
     "outputs": [
      {
       "output_type": "stream",
       "stream": "stdout",
       "text": [
        "Band 5\n",
        "\n",
        "Information about /home/user/git/geoScripting/PythonRaster/LC81980242014260LGN00_sr_band5.tif\n",
        "Driver:  GTiff / GeoTIFF\n",
        "Size is  7791 x 7911 x 1\n",
        "\n",
        "Projection is:  PROJCS[\"WGS 84 / UTM zone 31N\",GEOGCS[\"WGS 84\",DATUM[\"WGS_1984\",SPHEROID[\"WGS 84\",6378137,298.257223563,AUTHORITY[\"EPSG\",\"7030\"]],AUTHORITY[\"EPSG\",\"6326\"]],PRIMEM[\"Greenwich\",0],UNIT[\"degree\",0.0174532925199433],AUTHORITY[\"EPSG\",\"4326\"]],PROJECTION[\"Transverse_Mercator\"],PARAMETER[\"latitude_of_origin\",0],PARAMETER[\"central_meridian\",3],PARAMETER[\"scale_factor\",0.9996],PARAMETER[\"false_easting\",500000],PARAMETER[\"false_northing\",0],UNIT[\"metre\",1,AUTHORITY[\"EPSG\",\"9001\"]],AUTHORITY[\"EPSG\",\"32631\"]]\n",
        "\n",
        "Information about the location of the image and the pixel size:\n",
        "Origin = ( 529185.0 , 5847015.0 )\n",
        "Pixel Size = ( 30.0 , -30.0 )\n"
       ]
      }
     ],
     "prompt_number": 3
    },
    {
     "cell_type": "code",
     "collapsed": false,
     "input": [
      "# Read data into an array\n",
      "band4Arr = dataSource4.ReadAsArray(0,0,dataSource4.RasterXSize, dataSource4.RasterYSize)\n",
      "band5Arr = dataSource5.ReadAsArray(0,0,dataSource5.RasterXSize, dataSource5.RasterYSize)\n",
      "print type(band4Arr)\n",
      "print type(band5Arr)"
     ],
     "language": "python",
     "metadata": {},
     "outputs": [
      {
       "output_type": "stream",
       "stream": "stdout",
       "text": [
        "<type 'numpy.ndarray'>\n",
        "<type 'numpy.ndarray'>\n"
       ]
      }
     ],
     "prompt_number": 4
    },
    {
     "cell_type": "code",
     "collapsed": false,
     "input": [
      "# set the data type\n",
      "band4Arr=band4Arr.astype(np.float32)\n",
      "band5Arr=band5Arr.astype(np.float32)"
     ],
     "language": "python",
     "metadata": {},
     "outputs": [],
     "prompt_number": 5
    },
    {
     "cell_type": "code",
     "collapsed": false,
     "input": [
      "# Derive the NDWI\n",
      "mask = np.greater(band5Arr+band4Arr,0)\n",
      "# set np.errstate to avoid warning of invalid values (i.e. NaN values) in the divide \n",
      "with np.errstate(invalid='ignore'):\n",
      "    ndwi = np.choose(mask,(-99,(band4Arr-band5Arr)/(band4Arr+band5Arr)))\n",
      "print \"NDWI min and max values\", ndwi.min(), ndwi.max()\n",
      "# Check the real minimum value\n",
      "print ndwi[ndwi>-99].min()"
     ],
     "language": "python",
     "metadata": {},
     "outputs": [
      {
       "output_type": "stream",
       "stream": "stdout",
       "text": [
        "NDWI min and max values "
       ]
      },
      {
       "output_type": "stream",
       "stream": "stdout",
       "text": [
        "-99.0 "
       ]
      },
      {
       "output_type": "stream",
       "stream": "stdout",
       "text": [
        "21.3333\n",
        "-2.36481"
       ]
      },
      {
       "output_type": "stream",
       "stream": "stdout",
       "text": [
        "\n"
       ]
      },
      {
       "output_type": "stream",
       "stream": "stderr",
       "text": [
        "-c:5: RuntimeWarning: divide by zero encountered in divide\n"
       ]
      }
     ],
     "prompt_number": 6
    },
    {
     "cell_type": "code",
     "collapsed": false,
     "input": [
      "# Write the result to disk\n",
      "driver = gdal.GetDriverByName('GTiff')\n",
      "outDataSet=driver.Create('/home/user/git/geoScripting/PythonRaster/ndwi.tif', dataSource4.RasterXSize, dataSource4.RasterYSize, 1, GDT_Float32)\n",
      "outBand = outDataSet.GetRasterBand(1)\n",
      "outBand.WriteArray(ndwi,0,0)\n",
      "outBand.SetNoDataValue(-99)"
     ],
     "language": "python",
     "metadata": {},
     "outputs": [
      {
       "metadata": {},
       "output_type": "pyout",
       "prompt_number": 7,
       "text": [
        "0"
       ]
      }
     ],
     "prompt_number": 7
    },
    {
     "cell_type": "code",
     "collapsed": false,
     "input": [
      "# set the projection and extent information of the dataset\n",
      "outDataSet.SetProjection(dataSource4.GetProjection())\n",
      "outDataSet.SetGeoTransform(dataSource4.GetGeoTransform())"
     ],
     "language": "python",
     "metadata": {},
     "outputs": [
      {
       "metadata": {},
       "output_type": "pyout",
       "prompt_number": 8,
       "text": [
        "0"
       ]
      }
     ],
     "prompt_number": 8
    },
    {
     "cell_type": "code",
     "collapsed": false,
     "input": [
      "# Finally let's save it... or like in the OGR example flush it\n",
      "outBand.FlushCache()\n",
      "outDataSet.FlushCache()"
     ],
     "language": "python",
     "metadata": {},
     "outputs": [],
     "prompt_number": 9
    },
    {
     "cell_type": "heading",
     "level": 1,
     "metadata": {},
     "source": [
      "Get the metadata of the image"
     ]
    },
    {
     "cell_type": "code",
     "collapsed": false,
     "input": [
      "!gdalinfo /home/user/git/geoScripting/PythonRaster/ndwi.tif"
     ],
     "language": "python",
     "metadata": {},
     "outputs": [
      {
       "output_type": "stream",
       "stream": "stdout",
       "text": [
        "Driver: GTiff/GeoTIFF\r\n",
        "Files: /home/user/git/geoScripting/PythonRaster/ndwi.tif\r\n",
        "Size is 7791, 7911\r\n",
        "Coordinate System is:\r\n",
        "PROJCS[\"WGS 84 / UTM zone 31N\",\r\n",
        "    GEOGCS[\"WGS 84\",\r\n",
        "        DATUM[\"WGS_1984\",\r\n",
        "            SPHEROID[\"WGS 84\",6378137,298.257223563,\r\n",
        "                AUTHORITY[\"EPSG\",\"7030\"]],\r\n",
        "            AUTHORITY[\"EPSG\",\"6326\"]],\r\n",
        "        PRIMEM[\"Greenwich\",0],\r\n",
        "        UNIT[\"degree\",0.0174532925199433],\r\n",
        "        AUTHORITY[\"EPSG\",\"4326\"]],\r\n",
        "    PROJECTION[\"Transverse_Mercator\"],\r\n",
        "    PARAMETER[\"latitude_of_origin\",0],\r\n",
        "    PARAMETER[\"central_meridian\",3],\r\n",
        "    PARAMETER[\"scale_factor\",0.9996],\r\n",
        "    PARAMETER[\"false_easting\",500000],\r\n",
        "    PARAMETER[\"false_northing\",0],\r\n",
        "    UNIT[\"metre\",1,\r\n",
        "        AUTHORITY[\"EPSG\",\"9001\"]],\r\n",
        "    AUTHORITY[\"EPSG\",\"32631\"]]\r\n",
        "Origin = (529185.000000000000000,5847015.000000000000000)\r\n",
        "Pixel Size = (30.000000000000000,-30.000000000000000)\r\n",
        "Metadata:\r\n",
        "  AREA_OR_POINT=Area\r\n",
        "Image Structure Metadata:\r\n",
        "  INTERLEAVE=BAND\r\n",
        "Corner Coordinates:\r\n",
        "Upper Left  (  529185.000, 5847015.000) (  3d25'57.39\"E, 52d46'19.83\"N)\r\n",
        "Lower Left  (  529185.000, 5609685.000) (  3d24'45.80\"E, 50d38'17.88\"N)\r\n",
        "Upper Right (  762915.000, 5847015.000) (  6d53'32.41\"E, 52d42'32.58\"N)\r\n",
        "Lower Right (  762915.000, 5609685.000) (  6d42'50.08\"E, 50d34'47.26\"N)\r\n",
        "Center      (  646050.000, 5728350.000) (  5d 6'46.27\"E, 51d41'13.53\"N)\r\n",
        "Band 1 Block=7791x1 Type=Float32, ColorInterp=Gray\r\n",
        "  NoData Value=-99\r\n"
       ]
      }
     ],
     "prompt_number": 10
    },
    {
     "cell_type": "code",
     "collapsed": false,
     "input": [
      "# via the Shell\n",
      "!gdalwarp -t_srs \"EPSG:4326\" /home/user/git/geoScripting/PythonRaster/ndwi.tif /home/user/git/geoScripting/PythonRaster/ndwiReprojected.tif"
     ],
     "language": "python",
     "metadata": {},
     "outputs": [
      {
       "output_type": "stream",
       "stream": "stdout",
       "text": [
        "Processing input file /home/user/git/geoScripting/PythonRaster/ndwi.tif.\r\n",
        "Using internal nodata values (e.g. -99) for image /home/user/git/geoScripting/PythonRaster/ndwi.tif.\r\n",
        "Copying nodata values from source /home/user/git/geoScripting/PythonRaster/ndwi.tif to destination /home/user/git/geoScripting/PythonRaster/ndwiReprojected.tif.\r\n"
       ]
      },
      {
       "output_type": "stream",
       "stream": "stdout",
       "text": [
        "0."
       ]
      },
      {
       "output_type": "stream",
       "stream": "stdout",
       "text": [
        "."
       ]
      },
      {
       "output_type": "stream",
       "stream": "stdout",
       "text": [
        ".10"
       ]
      },
      {
       "output_type": "stream",
       "stream": "stdout",
       "text": [
        "."
       ]
      },
      {
       "output_type": "stream",
       "stream": "stdout",
       "text": [
        "."
       ]
      },
      {
       "output_type": "stream",
       "stream": "stdout",
       "text": [
        "."
       ]
      },
      {
       "output_type": "stream",
       "stream": "stdout",
       "text": [
        "20."
       ]
      },
      {
       "output_type": "stream",
       "stream": "stdout",
       "text": [
        "."
       ]
      },
      {
       "output_type": "stream",
       "stream": "stdout",
       "text": [
        "."
       ]
      },
      {
       "output_type": "stream",
       "stream": "stdout",
       "text": [
        "30"
       ]
      },
      {
       "output_type": "stream",
       "stream": "stdout",
       "text": [
        "."
       ]
      },
      {
       "output_type": "stream",
       "stream": "stdout",
       "text": [
        "."
       ]
      },
      {
       "output_type": "stream",
       "stream": "stdout",
       "text": [
        "."
       ]
      },
      {
       "output_type": "stream",
       "stream": "stdout",
       "text": [
        "40."
       ]
      },
      {
       "output_type": "stream",
       "stream": "stdout",
       "text": [
        "."
       ]
      },
      {
       "output_type": "stream",
       "stream": "stdout",
       "text": [
        "."
       ]
      },
      {
       "output_type": "stream",
       "stream": "stdout",
       "text": [
        "50"
       ]
      },
      {
       "output_type": "stream",
       "stream": "stdout",
       "text": [
        "."
       ]
      },
      {
       "output_type": "stream",
       "stream": "stdout",
       "text": [
        "."
       ]
      },
      {
       "output_type": "stream",
       "stream": "stdout",
       "text": [
        ".60"
       ]
      },
      {
       "output_type": "stream",
       "stream": "stdout",
       "text": [
        "."
       ]
      },
      {
       "output_type": "stream",
       "stream": "stdout",
       "text": [
        "."
       ]
      },
      {
       "output_type": "stream",
       "stream": "stdout",
       "text": [
        "."
       ]
      },
      {
       "output_type": "stream",
       "stream": "stdout",
       "text": [
        "70"
       ]
      },
      {
       "output_type": "stream",
       "stream": "stdout",
       "text": [
        ".."
       ]
      },
      {
       "output_type": "stream",
       "stream": "stdout",
       "text": [
        "."
       ]
      },
      {
       "output_type": "stream",
       "stream": "stdout",
       "text": [
        "80."
       ]
      },
      {
       "output_type": "stream",
       "stream": "stdout",
       "text": [
        "."
       ]
      },
      {
       "output_type": "stream",
       "stream": "stdout",
       "text": [
        "."
       ]
      },
      {
       "output_type": "stream",
       "stream": "stdout",
       "text": [
        "90."
       ]
      },
      {
       "output_type": "stream",
       "stream": "stdout",
       "text": [
        "."
       ]
      },
      {
       "output_type": "stream",
       "stream": "stdout",
       "text": [
        ".100 - done.\r\n"
       ]
      }
     ],
     "prompt_number": 11
    },
    {
     "cell_type": "heading",
     "level": 1,
     "metadata": {},
     "source": [
      "Visualise the Result"
     ]
    },
    {
     "cell_type": "code",
     "collapsed": false,
     "input": [
      "# notebook magic to select the plotting method\n",
      "# change to inline to plot within this notebook\n",
      "#%matplotlib inline \n",
      "%matplotlib inline\n",
      "from osgeo import gdal\n",
      "import matplotlib.pyplot as plt\n"
     ],
     "language": "python",
     "metadata": {},
     "outputs": [],
     "prompt_number": 12
    },
    {
     "cell_type": "code",
     "collapsed": false,
     "input": [
      "# Open reprojected image\n",
      "dsll = gdal.Open(\"/home/user/git/geoScripting/PythonRaster/ndwiReprojected.tif\")\n",
      "# Read raster data\n",
      "ndwi = dsll.ReadAsArray(0, 0, dsll.RasterXSize, dsll.RasterYSize)\n",
      "# Now plot the raster data using gist_earth palette\n",
      "plt.imshow(ndwi, interpolation='nearest', vmin=0, cmap=plt.cm.gist_earth)\n",
      "plt.show()\n",
      "\n",
      "dsll = None\n"
     ],
     "language": "python",
     "metadata": {},
     "outputs": [
      {
       "output_type": "stream",
       "stream": "stderr",
       "text": [
        "/usr/lib/python2.7/dist-packages/IPython/core/formatters.py:239: FormatterWarning: Exception in image/png formatter: \n",
        "  FormatterWarning,\n"
       ]
      },
      {
       "metadata": {},
       "output_type": "display_data",
       "text": [
        "<matplotlib.figure.Figure at 0xae87294c>"
       ]
      }
     ],
     "prompt_number": 13
    },
    {
     "cell_type": "code",
     "collapsed": false,
     "input": [
      "#Seems that the file cannot be plotted. The directory is correct, the filename is correct. \n",
      "#Maybe this is due to the size of the .tif (230.5mb). \n",
      "#When we tried to plot the same image in R it worked fine."
     ],
     "language": "python",
     "metadata": {},
     "outputs": [],
     "prompt_number": 14
    },
    {
     "cell_type": "code",
     "collapsed": false,
     "input": [],
     "language": "python",
     "metadata": {},
     "outputs": []
    }
   ],
   "metadata": {}
  }
 ]
}